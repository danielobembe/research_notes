{
 "cells": [
  {
   "cell_type": "code",
   "execution_count": 3,
   "metadata": {},
   "outputs": [
    {
     "name": "stderr",
     "output_type": "stream",
     "text": [
      "Using TensorFlow backend.\n"
     ]
    }
   ],
   "source": [
    "import tensorflow as tf\n",
    "import keras as keras\n",
    "from numpy import array\n"
   ]
  },
  {
   "cell_type": "code",
   "execution_count": 16,
   "metadata": {},
   "outputs": [],
   "source": [
    " #lstm model: 256, 100, 500\n",
    "\n",
    "def lstm_model(em_len, hidden, max_len, top_words):\n",
    "    \n",
    "    embedding_vector_length = em_len\n",
    "    hidden_dim = hidden\n",
    "    max_review_length = max_len\n",
    "    top_words = top_words\n",
    "    \n",
    "    \n",
    "    model = tf.keras.models.Sequential()\n",
    "    model.add(tf.keras.layers.Embedding(top_words, embedding_vector_length, input_length=max_review_length))\n",
    "    model.add(tf.keras.layers.LSTM(hidden_dim))\n",
    "    model.add(tf.keras.layers.Dense(1, activation='sigmoid'))\n",
    "    return model\n",
    "    "
   ]
  },
  {
   "cell_type": "code",
   "execution_count": 17,
   "metadata": {},
   "outputs": [],
   "source": [
    "def build_estimator(model):\n",
    "    model.compile(\n",
    "        loss=\"binary_crossentropy\",\n",
    "        optimizer = \"adam\",\n",
    "        metrics = ['accuracy']\n",
    "    )\n",
    "    print(model.summary())\n",
    "    model_as_estimator = tf.keras.estimator.model_to_estimator(keras_model=model, model_dir=\"kkt\")\n",
    "    return model_as_estimator\n"
   ]
  },
  {
   "cell_type": "code",
   "execution_count": 18,
   "metadata": {},
   "outputs": [
    {
     "name": "stdout",
     "output_type": "stream",
     "text": [
      "_________________________________________________________________\n",
      "Layer (type)                 Output Shape              Param #   \n",
      "=================================================================\n",
      "embedding_5 (Embedding)      (None, 500, 256)          1280000   \n",
      "_________________________________________________________________\n",
      "lstm_4 (LSTM)                (None, 100)               142800    \n",
      "_________________________________________________________________\n",
      "dense_4 (Dense)              (None, 1)                 101       \n",
      "=================================================================\n",
      "Total params: 1,422,901\n",
      "Trainable params: 1,422,901\n",
      "Non-trainable params: 0\n",
      "_________________________________________________________________\n",
      "None\n",
      "INFO:tensorflow:Using the Keras model provided.\n",
      "INFO:tensorflow:Using default config.\n",
      "INFO:tensorflow:Using config: {'_model_dir': 'kkt', '_tf_random_seed': None, '_save_summary_steps': 100, '_save_checkpoints_steps': None, '_save_checkpoints_secs': 600, '_session_config': None, '_keep_checkpoint_max': 5, '_keep_checkpoint_every_n_hours': 10000, '_log_step_count_steps': 100, '_train_distribute': None, '_service': None, '_cluster_spec': <tensorflow.python.training.server_lib.ClusterSpec object at 0x11827bb70>, '_task_type': 'worker', '_task_id': 0, '_global_id_in_cluster': 0, '_master': '', '_evaluation_master': '', '_is_chief': True, '_num_ps_replicas': 0, '_num_worker_replicas': 1}\n"
     ]
    }
   ],
   "source": [
    "basic_lstm = lstm_model(em_len=256, hidden=100, max_len=500, top_words=5000)\n",
    "lstm_estimator = build_estimator(basic_lstm)"
   ]
  },
  {
   "cell_type": "code",
   "execution_count": 20,
   "metadata": {},
   "outputs": [],
   "source": [
    "# define input function\n",
    "\"\"\"\n",
    "References:\n",
    "a) http://jrmeyer.github.io/machinelearning/2019/05/29/tensorflow-dataset-estimator-api.html\n",
    "\"\"\""
   ]
  },
  {
   "cell_type": "code",
   "execution_count": null,
   "metadata": {},
   "outputs": [],
   "source": [
    "def parser(record):\n",
    "    features = {\n",
    "        'feats': tf.FixedLenFeature([], tf.string),\n",
    "        'label': tf.FixedLenFeature([], tf.int64),\n",
    "    }\n",
    "    \n",
    "    parsed = tf.parse_single_sequence_example(record, features)\n",
    "    feats = tf.convert_to_tensor(tf.decode_raw(parsed['feats'], tf.float64))\n",
    "    label = tf.cast(parsed['label'], tf.int32)\n",
    "    return {'feats': feats}, label\n",
    "    \n",
    "    \n",
    "def dataset_input(filenames, num_epochs):\n",
    "    pass"
   ]
  }
 ],
 "metadata": {
  "kernelspec": {
   "display_name": "Python 3",
   "language": "python",
   "name": "python3"
  },
  "language_info": {
   "codemirror_mode": {
    "name": "ipython",
    "version": 3
   },
   "file_extension": ".py",
   "mimetype": "text/x-python",
   "name": "python",
   "nbconvert_exporter": "python",
   "pygments_lexer": "ipython3",
   "version": "3.6.8"
  }
 },
 "nbformat": 4,
 "nbformat_minor": 2
}
