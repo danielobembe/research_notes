{
 "cells": [
  {
   "cell_type": "code",
   "execution_count": 7,
   "metadata": {},
   "outputs": [],
   "source": [
    "#https://code.luasoftware.com/tutorials/python/python-read-json-file-and-convert-to-csv/"
   ]
  },
  {
   "cell_type": "code",
   "execution_count": 6,
   "metadata": {},
   "outputs": [],
   "source": [
    "import json\n",
    "# import csv\n",
    "import unicodecsv as csv\n",
    "\n",
    "with open('classification_8000.json') as data_file:\n",
    "    data = json.loads(data_file.read())\n",
    "\n",
    "with open('output.csv', 'wb') as csv_file:\n",
    "    writer = csv.writer(csv_file, encoding='utf-8')\n",
    "\n",
    "    writer.writerow(['sentence_id', 'screening', 'label','text'])\n",
    "\n",
    "    for row in data:\n",
    "        sentence_id = row['sentence_id']\n",
    "        screening = row['screening']\n",
    "        label = row['label']\n",
    "        text = row['text']\n",
    "\n",
    "        row = [sentence_id, screening, label, text]\n",
    "\n",
    "        writer.writerow(row)"
   ]
  },
  {
   "cell_type": "code",
   "execution_count": null,
   "metadata": {},
   "outputs": [],
   "source": []
  },
  {
   "cell_type": "code",
   "execution_count": null,
   "metadata": {},
   "outputs": [],
   "source": []
  }
 ],
 "metadata": {
  "kernelspec": {
   "display_name": "Python 3",
   "language": "python",
   "name": "python3"
  },
  "language_info": {
   "codemirror_mode": {
    "name": "ipython",
    "version": 3
   },
   "file_extension": ".py",
   "mimetype": "text/x-python",
   "name": "python",
   "nbconvert_exporter": "python",
   "pygments_lexer": "ipython3",
   "version": "3.6.8"
  }
 },
 "nbformat": 4,
 "nbformat_minor": 2
}
