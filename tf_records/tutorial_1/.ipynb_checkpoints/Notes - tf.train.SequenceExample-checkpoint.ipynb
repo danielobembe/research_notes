{
 "cells": [
  {
   "cell_type": "code",
   "execution_count": 2,
   "metadata": {},
   "outputs": [],
   "source": [
    "import tensorflow as tf"
   ]
  },
  {
   "cell_type": "code",
   "execution_count": 3,
   "metadata": {},
   "outputs": [],
   "source": [
    "movie_1_actors = tf.train.Feature(\n",
    "    bytes_list = tf.train.BytesList(value=[b'Tim Robbins',b'Morgan Freeman'])\n",
    ")\n",
    "movie_2_actors = tf.train.Feature(\n",
    "    bytes_list = tf.train.BytesList(value=[b'Brad Pitt',b'Edward Norton', b'Helena Bonham Carter'])\n",
    ")\n",
    "movie_actors_list = [movie_1_actors, movie_2_actors]\n",
    "movie_actors_list = tf.train.FeatureList(feature=movie_actors_list)\n",
    "\n",
    "# Short Form\n",
    "movie_names = tf.train.FeatureList(\n",
    "    feature=[tf.train.Feature(bytes_list=tf.train.BytesList(value=[b'The Shawshank Redemption', b'Fight Club']))]\n",
    ")\n",
    "movie_ratings = tf.train.FeatureList(feature=\n",
    "                                    )"
   ]
  },
  {
   "cell_type": "code",
   "execution_count": null,
   "metadata": {},
   "outputs": [],
   "source": []
  },
  {
   "cell_type": "code",
   "execution_count": null,
   "metadata": {},
   "outputs": [],
   "source": []
  }
 ],
 "metadata": {
  "kernelspec": {
   "display_name": "Python 3",
   "language": "python",
   "name": "python3"
  },
  "language_info": {
   "codemirror_mode": {
    "name": "ipython",
    "version": 3
   },
   "file_extension": ".py",
   "mimetype": "text/x-python",
   "name": "python",
   "nbconvert_exporter": "python",
   "pygments_lexer": "ipython3",
   "version": "3.6.8"
  }
 },
 "nbformat": 4,
 "nbformat_minor": 2
}
