{
 "cells": [
  {
   "cell_type": "code",
   "execution_count": 2,
   "metadata": {},
   "outputs": [],
   "source": [
    "import tensorflow as tf"
   ]
  },
  {
   "cell_type": "code",
   "execution_count": 7,
   "metadata": {},
   "outputs": [],
   "source": [
    "movie_1_actors = tf.train.Feature(\n",
    "    bytes_list = tf.train.BytesList(value=[b'Tim Robbins',b'Morgan Freeman'])\n",
    ")\n",
    "movie_2_actors = tf.train.Feature(\n",
    "    bytes_list = tf.train.BytesList(value=[b'Brad Pitt',b'Edward Norton', b'Helena Bonham Carter'])\n",
    ")\n",
    "movie_actors_list = [movie_1_actors, movie_2_actors]\n",
    "movie_actors = tf.train.FeatureList(feature=movie_actors_list)\n",
    "\n",
    "# Short Form\n",
    "movie_names = tf.train.FeatureList(\n",
    "    feature=[tf.train.Feature(bytes_list=tf.train.BytesList(value=[b'The Shawshank Redemption', b'Fight Club']))]\n",
    ")\n",
    "movie_ratings = tf.train.FeatureList(\n",
    "    feature=[tf.train.Feature(float_list=tf.train.FloatList(value=[9.7, 9.0]))]\n",
    ")"
   ]
  },
  {
   "cell_type": "code",
   "execution_count": 8,
   "metadata": {},
   "outputs": [],
   "source": [
    "#Note: tf.train.FeatureLists == collection of named instances of tf.train.FeatureList"
   ]
  },
  {
   "cell_type": "code",
   "execution_count": 11,
   "metadata": {},
   "outputs": [],
   "source": [
    "movies_dict = {\n",
    "    'Movie Names': movie_names,\n",
    "    'Movie Ratings': movie_ratings,\n",
    "    'Movie Actors': movie_actors\n",
    "}\n",
    "\n",
    "movies = tf.train.FeatureLists(feature_list=movies_dict)"
   ]
  },
  {
   "cell_type": "code",
   "execution_count": null,
   "metadata": {},
   "outputs": [],
   "source": []
  }
 ],
 "metadata": {
  "kernelspec": {
   "display_name": "Python 3",
   "language": "python",
   "name": "python3"
  },
  "language_info": {
   "codemirror_mode": {
    "name": "ipython",
    "version": 3
   },
   "file_extension": ".py",
   "mimetype": "text/x-python",
   "name": "python",
   "nbconvert_exporter": "python",
   "pygments_lexer": "ipython3",
   "version": "3.6.8"
  }
 },
 "nbformat": 4,
 "nbformat_minor": 2
}
