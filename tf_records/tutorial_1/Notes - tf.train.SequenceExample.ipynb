{
 "cells": [
  {
   "cell_type": "code",
   "execution_count": 1,
   "metadata": {},
   "outputs": [],
   "source": [
    "import tensorflow as tf"
   ]
  },
  {
   "cell_type": "code",
   "execution_count": 2,
   "metadata": {},
   "outputs": [],
   "source": [
    "movie_1_actors = tf.train.Feature(\n",
    "    bytes_list = tf.train.BytesList(value=[b'Tim Robbins',b'Morgan Freeman'])\n",
    ")\n",
    "movie_2_actors = tf.train.Feature(\n",
    "    bytes_list = tf.train.BytesList(value=[b'Brad Pitt',b'Edward Norton', b'Helena Bonham Carter'])\n",
    ")\n",
    "movie_actors_list = [movie_1_actors, movie_2_actors]\n",
    "movie_actors = tf.train.FeatureList(feature=movie_actors_list)\n",
    "\n",
    "# Short Form\n",
    "movie_names = tf.train.FeatureList(\n",
    "    feature=[tf.train.Feature(bytes_list=tf.train.BytesList(value=[b'The Shawshank Redemption', b'Fight Club']))]\n",
    ")\n",
    "movie_ratings = tf.train.FeatureList(\n",
    "    feature=[tf.train.Feature(float_list=tf.train.FloatList(value=[9.7, 9.0]))]\n",
    ")"
   ]
  },
  {
   "cell_type": "code",
   "execution_count": 3,
   "metadata": {},
   "outputs": [],
   "source": [
    "#Note: tf.train.FeatureLists == collection of named instances of tf.train.FeatureList"
   ]
  },
  {
   "cell_type": "code",
   "execution_count": 4,
   "metadata": {},
   "outputs": [],
   "source": [
    "movies_dict = {\n",
    "    'Movie Names': movie_names,\n",
    "    'Movie Ratings': movie_ratings,\n",
    "    'Movie Actors': movie_actors\n",
    "}\n",
    "\n",
    "movies = tf.train.FeatureLists(feature_list=movies_dict)"
   ]
  },
  {
   "cell_type": "code",
   "execution_count": 5,
   "metadata": {},
   "outputs": [],
   "source": [
    "# Context Features"
   ]
  },
  {
   "cell_type": "code",
   "execution_count": 6,
   "metadata": {},
   "outputs": [],
   "source": [
    "customer = tf.train.Features(feature= {\n",
    "    'Age': tf.train.Feature(int64_list=tf.train.Int64List(value=[19]))\n",
    "})"
   ]
  },
  {
   "cell_type": "code",
   "execution_count": 7,
   "metadata": {},
   "outputs": [],
   "source": [
    "# create tf.train.SequenceExample"
   ]
  },
  {
   "cell_type": "code",
   "execution_count": 8,
   "metadata": {},
   "outputs": [],
   "source": [
    "example = tf.train.SequenceExample(\n",
    "    context=customer,\n",
    "    feature_lists=movies\n",
    ")"
   ]
  },
  {
   "cell_type": "code",
   "execution_count": 9,
   "metadata": {},
   "outputs": [],
   "source": [
    "### FULL EXAMPLE ###"
   ]
  },
  {
   "cell_type": "code",
   "execution_count": 11,
   "metadata": {},
   "outputs": [
    {
     "name": "stdout",
     "output_type": "stream",
     "text": [
      "{'Locale': 'pt_BR', 'Age': 19, 'Favorites': ['Majext Rose', 'Savannah Outen', 'One Direction'], 'Data': [{'Movie Name': 'Shawshank Redemption', 'Movie Rating': 9.7, 'Actors': ['Tim Robbins', 'Morgan Freeman']}, {'Movie Name': 'Fight Club', 'Movie Rating': 9.7, 'Actors': ['Brad Pitt', 'Edward Norton', 'Helena Bonham']}]}\n"
     ]
    }
   ],
   "source": [
    "# Create example data\n",
    "data = {\n",
    "    'Locale': 'pt_BR',\n",
    "    'Age': 19,\n",
    "    'Favorites': ['Majext Rose', 'Savannah Outen', 'One Direction'],\n",
    "    'Data': [\n",
    "        {\n",
    "            'Movie Name': 'Shawshank Redemption',\n",
    "            'Movie Rating': 9.7,\n",
    "            'Actors': [\"Tim Robbins\", \"Morgan Freeman\"]\n",
    "        },\n",
    "        {\n",
    "            'Movie Name': 'Fight Club',\n",
    "            'Movie Rating': 9.7,\n",
    "            'Actors': ['Brad Pitt', 'Edward Norton', 'Helena Bonham']\n",
    "        }\n",
    "    ]\n",
    "}\n",
    "print(data)"
   ]
  },
  {
   "cell_type": "code",
   "execution_count": 12,
   "metadata": {},
   "outputs": [],
   "source": [
    "#Create context features"
   ]
  },
  {
   "cell_type": "code",
   "execution_count": 15,
   "metadata": {},
   "outputs": [],
   "source": [
    "customer = tf.train.Features( feature = {\n",
    "    'Locale': tf.train.Feature(bytes_list=tf.train.BytesList(value=[data['Locale'].encode('utf-8')])),\n",
    "    'Age': tf.train.Feature(int64_list=tf.train.Int64List(value=[data['Age']])),\n",
    "    'Favorites': tf.train.Feature(bytes_list=tf.train.BytesList(value=[m.encode('utf-8') for m in data['Favorites']]))\n",
    "})"
   ]
  },
  {
   "cell_type": "code",
   "execution_count": 17,
   "metadata": {},
   "outputs": [],
   "source": [
    "# Create Sequence data"
   ]
  },
  {
   "cell_type": "code",
   "execution_count": 21,
   "metadata": {},
   "outputs": [],
   "source": [
    "names_features = []\n",
    "ratings_features = []\n",
    "actors_features = []\n",
    "for movie in data['Data']:\n",
    "    movie_name_feature = tf.train.Feature(\n",
    "        bytes_list = tf.train.BytesList(value=[movie['Movie Name'].encode('utf-8')])\n",
    "    )\n",
    "    names_features.append(movie_name_feature)\n",
    "    \n",
    "    movie_rating_feature = tf.train.Feature(\n",
    "        float_list=tf.train.FloatList(value=[movie['Movie Rating']]))\n",
    "    ratings_features.append(movie_rating_feature)\n",
    "    \n",
    "    movie_actors_feature = tf.train.Feature(\n",
    "        bytes_list=tf.train.BytesList(\n",
    "            value=[m.encode('utf-8') for m in movie['Actors']]))\n",
    "    actors_features.append(movie_actors_feature)\n",
    "\n",
    "movie_names = tf.train.FeatureList(feature=names_features)\n",
    "movie_ratings = tf.train.FeatureList(feature=ratings_features)\n",
    "movie_actors = tf.train.FeatureList(feature=actors_features)\n",
    "\n",
    "movies = tf.train.FeatureLists(feature_list = {\n",
    "    'Movie Names': movie_names,\n",
    "    'Movie Ratings': movie_ratings,\n",
    "    'Movie Actors': movie_actors\n",
    "})"
   ]
  },
  {
   "cell_type": "code",
   "execution_count": 22,
   "metadata": {},
   "outputs": [],
   "source": [
    "# Create sequenceExample"
   ]
  },
  {
   "cell_type": "code",
   "execution_count": 24,
   "metadata": {},
   "outputs": [
    {
     "name": "stdout",
     "output_type": "stream",
     "text": [
      "context {\n",
      "  feature {\n",
      "    key: \"Age\"\n",
      "    value {\n",
      "      int64_list {\n",
      "        value: 19\n",
      "      }\n",
      "    }\n",
      "  }\n",
      "  feature {\n",
      "    key: \"Favorites\"\n",
      "    value {\n",
      "      bytes_list {\n",
      "        value: \"Majext Rose\"\n",
      "        value: \"Savannah Outen\"\n",
      "        value: \"One Direction\"\n",
      "      }\n",
      "    }\n",
      "  }\n",
      "  feature {\n",
      "    key: \"Locale\"\n",
      "    value {\n",
      "      bytes_list {\n",
      "        value: \"pt_BR\"\n",
      "      }\n",
      "    }\n",
      "  }\n",
      "}\n",
      "feature_lists {\n",
      "  feature_list {\n",
      "    key: \"Movie Actors\"\n",
      "    value {\n",
      "      feature {\n",
      "        bytes_list {\n",
      "          value: \"Tim Robbins\"\n",
      "          value: \"Morgan Freeman\"\n",
      "        }\n",
      "      }\n",
      "      feature {\n",
      "        bytes_list {\n",
      "          value: \"Brad Pitt\"\n",
      "          value: \"Edward Norton\"\n",
      "          value: \"Helena Bonham\"\n",
      "        }\n",
      "      }\n",
      "    }\n",
      "  }\n",
      "  feature_list {\n",
      "    key: \"Movie Names\"\n",
      "    value {\n",
      "      feature {\n",
      "        bytes_list {\n",
      "          value: \"Shawshank Redemption\"\n",
      "        }\n",
      "      }\n",
      "      feature {\n",
      "        bytes_list {\n",
      "          value: \"Fight Club\"\n",
      "        }\n",
      "      }\n",
      "    }\n",
      "  }\n",
      "  feature_list {\n",
      "    key: \"Movie Ratings\"\n",
      "    value {\n",
      "      feature {\n",
      "        float_list {\n",
      "          value: 9.699999809265137\n",
      "        }\n",
      "      }\n",
      "      feature {\n",
      "        float_list {\n",
      "          value: 9.699999809265137\n",
      "        }\n",
      "      }\n",
      "    }\n",
      "  }\n",
      "}\n",
      "\n"
     ]
    }
   ],
   "source": [
    "example = tf.train.SequenceExample(context=customer, feature_lists=movies)\n",
    "print(example)"
   ]
  },
  {
   "cell_type": "code",
   "execution_count": null,
   "metadata": {},
   "outputs": [],
   "source": []
  }
 ],
 "metadata": {
  "kernelspec": {
   "display_name": "Python 3",
   "language": "python",
   "name": "python3"
  },
  "language_info": {
   "codemirror_mode": {
    "name": "ipython",
    "version": 3
   },
   "file_extension": ".py",
   "mimetype": "text/x-python",
   "name": "python",
   "nbconvert_exporter": "python",
   "pygments_lexer": "ipython3",
   "version": "3.6.8"
  }
 },
 "nbformat": 4,
 "nbformat_minor": 2
}
